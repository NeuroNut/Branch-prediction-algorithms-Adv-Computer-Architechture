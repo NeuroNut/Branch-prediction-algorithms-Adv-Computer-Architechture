{
 "cells": [
  {
   "cell_type": "code",
   "execution_count": 1,
   "id": "d22f3897",
   "metadata": {},
   "outputs": [
    {
     "name": "stdout",
     "output_type": "stream",
     "text": [
      "Generating 500 branch outcomes...\n",
      "Creating training windows (size 16)...\n",
      "Generated X shape: (484, 16, 1)\n",
      "Generated y shape: (484,)\n",
      "Data saved to branchnet_training_data.npz\n"
     ]
    }
   ],
   "source": [
    "# generate_data.py\n",
    "import numpy as np\n",
    "\n",
    "def generate_branch_history(num_iterations=200):\n",
    "    \"\"\"Generates a history based on our simple scenario.\"\"\"\n",
    "    history = []\n",
    "    # Simulate initial random history (doesn't matter much for correlation)\n",
    "    history.extend(np.random.randint(0, 2, size=5).tolist())\n",
    "\n",
    "    for i in range(5, num_iterations):\n",
    "        loop_pattern = (i % 4 == 0) # True if multiple of 4\n",
    "        correlation_pattern = (history[-1] == 0 and history[-2] == 0) # True if last two were NT\n",
    "\n",
    "        # Branch logic: Usually Taken (1), unless EITHER pattern is met\n",
    "        if loop_pattern or correlation_pattern:\n",
    "            outcome = 0 # Not Taken\n",
    "        else:\n",
    "            outcome = 1 # Taken\n",
    "        history.append(outcome)\n",
    "    return np.array(history)\n",
    "\n",
    "def create_windows(data, history_window_size):\n",
    "    \"\"\"Creates sliding windows for sequence prediction.\"\"\"\n",
    "    X, y = [], []\n",
    "    if len(data) <= history_window_size:\n",
    "        print(\"Error: Data length must be greater than history_window_size\")\n",
    "        return np.array(X), np.array(y)\n",
    "        \n",
    "    for i in range(history_window_size, len(data)):\n",
    "        X.append(data[i-history_window_size:i])\n",
    "        y.append(data[i])\n",
    "    return np.array(X), np.array(y)\n",
    "\n",
    "if __name__ == \"__main__\":\n",
    "    HISTORY_WINDOW_SIZE = 16 # How many past branches BranchNet looks at\n",
    "    NUM_SAMPLES = 500     # Total length of branch history to generate\n",
    "\n",
    "    print(f\"Generating {NUM_SAMPLES} branch outcomes...\")\n",
    "    full_history = generate_branch_history(NUM_SAMPLES)\n",
    "\n",
    "    print(f\"Creating training windows (size {HISTORY_WINDOW_SIZE})...\")\n",
    "    X, y = create_windows(full_history, HISTORY_WINDOW_SIZE)\n",
    "\n",
    "    # Reshape X for CNN/LSTM input: (num_samples, timesteps, features)\n",
    "    # Here, features = 1 (just the outcome)\n",
    "    X = X.reshape(X.shape[0], X.shape[1], 1)\n",
    "\n",
    "    print(f\"Generated X shape: {X.shape}\") # Should be (NUM_SAMPLES - HISTORY_WINDOW_SIZE, HISTORY_WINDOW_SIZE, 1)\n",
    "    print(f\"Generated y shape: {y.shape}\") # Should be (NUM_SAMPLES - HISTORY_WINDOW_SIZE,)\n",
    "\n",
    "    # Save the generated data\n",
    "    np.savez('branchnet_training_data.npz', X=X, y=y, full_history=full_history)\n",
    "    print(\"Data saved to branchnet_training_data.npz\")"
   ]
  },
  {
   "cell_type": "code",
   "execution_count": null,
   "id": "c0fcf34a",
   "metadata": {},
   "outputs": [],
   "source": []
  }
 ],
 "metadata": {
  "kernelspec": {
   "display_name": "Python 3 (ipykernel)",
   "language": "python",
   "name": "python3"
  },
  "language_info": {
   "codemirror_mode": {
    "name": "ipython",
    "version": 3
   },
   "file_extension": ".py",
   "mimetype": "text/x-python",
   "name": "python",
   "nbconvert_exporter": "python",
   "pygments_lexer": "ipython3",
   "version": "3.9.12"
  }
 },
 "nbformat": 4,
 "nbformat_minor": 5
}
